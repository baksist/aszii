{
 "cells": [
  {
   "cell_type": "markdown",
   "metadata": {},
   "source": [
    "# Практическая работа №5. Атака с ограниченной памятью (PGD)\n",
    "\n",
    "Выполнил Сердюков Матвей, ББМО-01-23\n",
    "\n",
    "## Цель задания\n",
    "\n",
    "Изучить одну из наиболее мощных атак на модели ИИ — атаку Projected Gradient Descent (PGD).\n",
    "Научиться использовать PGD для создания противоречивых примеров и оценить её влияние на\n",
    "обученные модели.\n",
    "\n",
    "## Задачи\n",
    "\n",
    "1. Загрузить ранее обученную модель на датасете MNIST.\n",
    "2. Изучить теоретические основы атаки PGD.\n",
    "3. Реализовать атаку PGD с помощью фреймворка Foolbox.\n",
    "4. Оценить точность модели на противоречивых примерах и сравнить с результатами на обычных\n",
    "данных."
   ]
  },
  {
   "cell_type": "markdown",
   "metadata": {},
   "source": [
    "## Загрузка обученной модели и данных MNIST"
   ]
  },
  {
   "cell_type": "code",
   "execution_count": 3,
   "metadata": {},
   "outputs": [
    {
     "name": "stderr",
     "output_type": "stream",
     "text": [
      "WARNING:absl:Compiled the loaded model, but the compiled metrics have yet to be built. `model.compile_metrics` will be empty until you train or evaluate the model.\n"
     ]
    },
    {
     "name": "stdout",
     "output_type": "stream",
     "text": [
      "\u001b[1m313/313\u001b[0m \u001b[32m━━━━━━━━━━━━━━━━━━━━\u001b[0m\u001b[37m\u001b[0m \u001b[1m1s\u001b[0m 809us/step - accuracy: 0.9736 - loss: 0.0915\n",
      "Test accuracy on clean images: 0.9768000245094299\n"
     ]
    }
   ],
   "source": [
    "import tensorflow as tf\n",
    "from tensorflow.keras.datasets import mnist\n",
    "from tensorflow.keras.utils import to_categorical\n",
    "\n",
    "# Загрузка тестовых данных MNIST\n",
    "(_, _), (test_images, test_labels) = mnist.load_data()\n",
    "\n",
    "# Нормализация данных\n",
    "test_images = test_images / 255.0\n",
    "test_labels = to_categorical(test_labels, num_classes=10)\n",
    "\n",
    "# Загрузка обученной модели\n",
    "model = tf.keras.models.load_model('../mnist_model.h5')\n",
    "\n",
    "# Проверка точности модели на обычных данных\n",
    "test_loss, test_acc = model.evaluate(test_images, test_labels)\n",
    "print(f'Test accuracy on clean images: {test_acc}')"
   ]
  },
  {
   "cell_type": "markdown",
   "metadata": {},
   "source": [
    "## Реализация атаки PGD с использованием Foolbox"
   ]
  },
  {
   "cell_type": "code",
   "execution_count": 13,
   "metadata": {},
   "outputs": [
    {
     "name": "stderr",
     "output_type": "stream",
     "text": [
      "I0000 00:00:1734691565.533824    2938 cuda_executor.cc:1001] could not open file to read NUMA node: /sys/bus/pci/devices/0000:01:00.0/numa_node\n",
      "Your kernel may have been built without NUMA support.\n",
      "2024-12-20 13:46:05.533889: W tensorflow/core/common_runtime/gpu/gpu_device.cc:2343] Cannot dlopen some GPU libraries. Please make sure the missing libraries mentioned above are installed properly if you would like to use GPU. Follow the guide at https://www.tensorflow.org/install/gpu for how to download and setup the required libraries for your platform.\n",
      "Skipping registering GPU devices...\n"
     ]
    },
    {
     "data": {
      "image/png": "[encoded data removed]",
      "text/plain": [
       "<Figure size 700x500 with 2 Axes>"
      ]
     },
     "metadata": {},
     "output_type": "display_data"
    }
   ],
   "source": [
    "import foolbox as fb\n",
    "import numpy as np\n",
    "import matplotlib.pyplot as plt\n",
    "import tensorflow as tf\n",
    "\n",
    "# Инициализация Foolbox модели\n",
    "fmodel = fb.TensorFlowModel(model, bounds=(0, 1))\n",
    "\n",
    "# Выбор изображения для атаки\n",
    "image = tf.convert_to_tensor(test_images[0], dtype=tf.float32)[None, ...]\n",
    "label = np.argmax(test_labels[0])\n",
    "label = tf.convert_to_tensor(label, dtype=tf.int64)\n",
    "\n",
    "# Создание атаки PGD\n",
    "attack = fb.attacks.LinfPGD()\n",
    "\n",
    "# Выполнение атаки\n",
    "adversarial_image, _, success = attack(fmodel, image, label[None], epsilons=0.1)  \n",
    "\n",
    "# Вывод оригинального и противоречивого изображения\n",
    "plt.figure(figsize=(7, 5))\n",
    "plt.subplot(1, 2, 1)\n",
    "plt.title(\"Оригинальное изображение\")\n",
    "plt.imshow(image[0].numpy(), cmap=\"gray\")\n",
    "plt.subplot(1, 2, 2)\n",
    "plt.title(\"Противоречивое изображение (PGD)\")\n",
    "plt.imshow(adversarial_image[0].numpy(), cmap=\"gray\")\n",
    "plt.show()"
   ]
  },
  {
   "cell_type": "markdown",
   "metadata": {},
   "source": [
    "## Оценка модели на противоречивых примерах"
   ]
  },
  {
   "cell_type": "code",
   "execution_count": 14,
   "metadata": {},
   "outputs": [
    {
     "name": "stdout",
     "output_type": "stream",
     "text": [
      "\u001b[1m313/313\u001b[0m \u001b[32m━━━━━━━━━━━━━━━━━━━━\u001b[0m\u001b[37m\u001b[0m \u001b[1m0s\u001b[0m 752us/step - accuracy: 0.0408 - loss: 8.1764\n",
      "Accuracy on adversarial examples (PGD): 0.051500000059604645\n"
     ]
    }
   ],
   "source": [
    "# Создание набора противоречивых примеров для всего тестового набора\n",
    "adversarial_images = []\n",
    "\n",
    "for i in range(len(test_images)):\n",
    "    image = tf.convert_to_tensor(test_images[i], dtype=tf.float32)[None, ...]\n",
    "    label = np.argmax(test_labels[i])\n",
    "    label = tf.convert_to_tensor(label, dtype=tf.int64)\n",
    "    adv_image, _, success = attack(fmodel, image, label[None], epsilons=0.1)\n",
    "    adversarial_images.append(adv_image)\n",
    "\n",
    "adversarial_images = tf.concat(adversarial_images, axis=0)\n",
    "\n",
    "# Оценка точности модели на противоречивых примерах\n",
    "adversarial_loss, adversarial_acc = model.evaluate(adversarial_images, test_labels)\n",
    "print(f'Accuracy on adversarial examples (PGD): {adversarial_acc}')"
   ]
  },
  {
   "cell_type": "markdown",
   "metadata": {},
   "source": [
    "## Вывод\n",
    "\n",
    "Точность модели снизилась с 97,7% до 5,2%, что говорит об её уязвимостя к атакам типа PGD. Это означает, что небольшие и целонаправленные изменения входных данных способны ввести модель в заблуждение."
   ]
  }
 ],
 "metadata": {
  "kernelspec": {
   "display_name": "aszii",
   "language": "python",
   "name": "python3"
  },
  "language_info": {
   "codemirror_mode": {
    "name": "ipython",
    "version": 3
   },
   "file_extension": ".py",
   "mimetype": "text/x-python",
   "name": "python",
   "nbconvert_exporter": "python",
   "pygments_lexer": "ipython3",
   "version": "3.12.3"
  }
 },
 "nbformat": 4,
 "nbformat_minor": 2
}
