{
 "cells": [
  {
   "cell_type": "markdown",
   "metadata": {},
   "source": [
    "# Практическая работа №8. Методы защиты от атак на модели ИИ\n",
    "\n",
    "Выполнил Сердюков Матвей, ББМО-01-23\n",
    "\n",
    "## Цель задания\n",
    "\n",
    "Изучить методы защиты моделей ИИ от различных атак, включая методы защиты на уровне данных,\n",
    "моделирования и обучения. Реализовать эти методы и проверить их эффективность против атак,\n",
    "изученных ранее.\n",
    "\n",
    "## Задачи\n",
    "\n",
    "1. Изучить и реализовать защиту модели с помощью тренировок на противоречивых примерах\n",
    "(Adversarial Training).\n",
    "2. Реализовать метод защиты на основе градиентной маскировки.\n",
    "3. Использовать регуляризацию и нормализацию для повышения устойчивости модели.\n",
    "4. Проверить эффективность методов защиты против атак FGSM, PGD и GAN-based атак.\n",
    "5. Оценить улучшение точности защищенной модели на противоречивых примерах."
   ]
  },
  {
   "cell_type": "markdown",
   "metadata": {},
   "source": [
    "## Защита с помощью Adversarial Training"
   ]
  },
  {
   "cell_type": "code",
   "execution_count": 4,
   "metadata": {},
   "outputs": [
    {
     "name": "stdout",
     "output_type": "stream",
     "text": [
      "WARNING:tensorflow:5 out of the last 5 calls to <function TensorFlowTrainer.make_train_function.<locals>.one_step_on_iterator at 0x7f95d818f2e0> triggered tf.function retracing. Tracing is expensive and the excessive number of tracings could be due to (1) creating @tf.function repeatedly in a loop, (2) passing tensors with different shapes, (3) passing Python objects instead of tensors. For (1), please define your @tf.function outside of the loop. For (2), @tf.function has reduce_retracing=True option that can avoid unnecessary retracing. For (3), please refer to https://www.tensorflow.org/guide/function#controlling_retracing and https://www.tensorflow.org/api_docs/python/tf/function for  more details.\n",
      "WARNING:tensorflow:6 out of the last 6 calls to <function TensorFlowTrainer.make_train_function.<locals>.one_step_on_iterator at 0x7f95d818f2e0> triggered tf.function retracing. Tracing is expensive and the excessive number of tracings could be due to (1) creating @tf.function repeatedly in a loop, (2) passing tensors with different shapes, (3) passing Python objects instead of tensors. For (1), please define your @tf.function outside of the loop. For (2), @tf.function has reduce_retracing=True option that can avoid unnecessary retracing. For (3), please refer to https://www.tensorflow.org/guide/function#controlling_retracing and https://www.tensorflow.org/api_docs/python/tf/function for  more details.\n"
     ]
    },
    {
     "name": "stderr",
     "output_type": "stream",
     "text": [
      "WARNING:absl:You are saving your model as an HDF5 file via `model.save()` or `keras.saving.save_model(model)`. This file format is considered legacy. We recommend using instead the native Keras format, e.g. `model.save('my_model.keras')` or `keras.saving.save_model(model, 'my_model.keras')`. \n"
     ]
    }
   ],
   "source": [
    "import tensorflow as tf\n",
    "import numpy as np\n",
    "from tensorflow.keras.datasets import mnist\n",
    "\n",
    "# Загрузка данных MNIST\n",
    "(train_images, train_labels), (test_images, test_labels) = mnist.load_data()\n",
    "\n",
    "# Нормализация данных\n",
    "train_images = train_images / 255.0\n",
    "test_images = test_images / 255.0\n",
    "\n",
    "# Преобразование меток в one-hot encoding\n",
    "train_labels = tf.keras.utils.to_categorical(train_labels, 10)\n",
    "test_labels = tf.keras.utils.to_categorical(test_labels, 10)\n",
    "\n",
    "train_images = train_images[:1000]\n",
    "train_labels = train_labels[:1000]\n",
    "\n",
    "# Функция FGSM атаки\n",
    "def fgsm_attack(image, epsilon, gradient):\n",
    "    perturbation = epsilon * np.sign(gradient)\n",
    "    adversarial_image = image + perturbation\n",
    "    adversarial_image = np.clip(adversarial_image, 0, 1)\n",
    "    return adversarial_image\n",
    "\n",
    "# Функция для генерации противоречивых примеров\n",
    "def generate_adversarial_examples(model, images, labels, epsilon):\n",
    "    adversarial_images = []\n",
    "    for i in range(len(images)):\n",
    "        image = tf.convert_to_tensor(images[i].reshape((1, 28, 28, 1)), dtype=tf.float32)\n",
    "        label = tf.convert_to_tensor(labels[i].reshape((1, 10)), dtype=tf.float32)\n",
    "        with tf.GradientTape() as tape:\n",
    "            tape.watch(image)\n",
    "            prediction = model(image)\n",
    "            loss = tf.keras.losses.categorical_crossentropy(label,\n",
    "            prediction)\n",
    "        gradient = tape.gradient(loss, image)\n",
    "        adversarial_image = fgsm_attack(image, epsilon, gradient)\n",
    "        adversarial_images.append(adversarial_image.reshape(28, 28))\n",
    "    return np.array(adversarial_images)\n",
    "\n",
    "# Создание модели\n",
    "def create_model():\n",
    "    model = tf.keras.Sequential([\n",
    "        tf.keras.layers.Flatten(input_shape=(28, 28)),\n",
    "        tf.keras.layers.Dense(128, activation='relu'),\n",
    "        tf.keras.layers.Dense(10, activation='softmax')\n",
    "    ])\n",
    "    model.compile(optimizer='adam', loss='categorical_crossentropy', metrics=['accuracy'])\n",
    "    return model\n",
    "\n",
    "# Обучение модели с противоречивыми примерами\n",
    "def adversarial_training(model, train_images, train_labels, epsilon):\n",
    "    for epoch in range(5): # Короткое обучение для демонстрации\n",
    "        for i in range(0, len(train_images), 32):\n",
    "            batch_images = train_images[i:i+32]\n",
    "            batch_labels = train_labels[i:i+32]\n",
    "            \n",
    "            # Генерация противоречивых примеров для текущей партии данных\n",
    "            adversarial_images = generate_adversarial_examples(model, batch_images, batch_labels, epsilon)\n",
    "            \n",
    "            # Объединение оригинальных и противоречивых примеров\n",
    "            combined_images = np.concatenate([batch_images, adversarial_images], axis=0)\n",
    "            combined_labels = np.concatenate([batch_labels, batch_labels], axis=0)\n",
    "            \n",
    "            # Обучение на комбинированных данных\n",
    "            model.train_on_batch(combined_images, combined_labels)\n",
    "\n",
    "# Инициализация модели\n",
    "model = create_model()\n",
    "\n",
    "# Тренировка модели с защитой на противоречивых примерах\n",
    "adversarial_training(model, train_images, train_labels, epsilon=0.1)\n",
    "\n",
    "# Сохранение защищенной модели\n",
    "model.save('adversarial_trained_model.h5')"
   ]
  },
  {
   "cell_type": "markdown",
   "metadata": {},
   "source": [
    "## Градиентная маскировка"
   ]
  },
  {
   "cell_type": "code",
   "execution_count": 5,
   "metadata": {},
   "outputs": [
    {
     "name": "stdout",
     "output_type": "stream",
     "text": [
      "Epoch 1/5\n",
      "\u001b[1m32/32\u001b[0m \u001b[32m━━━━━━━━━━━━━━━━━━━━\u001b[0m\u001b[37m\u001b[0m \u001b[1m1s\u001b[0m 2ms/step - accuracy: 0.4613 - loss: 1.9016 \n",
      "Epoch 2/5\n",
      "\u001b[1m32/32\u001b[0m \u001b[32m━━━━━━━━━━━━━━━━━━━━\u001b[0m\u001b[37m\u001b[0m \u001b[1m0s\u001b[0m 2ms/step - accuracy: 0.8312 - loss: 0.7994\n",
      "Epoch 3/5\n",
      "\u001b[1m32/32\u001b[0m \u001b[32m━━━━━━━━━━━━━━━━━━━━\u001b[0m\u001b[37m\u001b[0m \u001b[1m0s\u001b[0m 2ms/step - accuracy: 0.8789 - loss: 0.4886\n",
      "Epoch 4/5\n",
      "\u001b[1m32/32\u001b[0m \u001b[32m━━━━━━━━━━━━━━━━━━━━\u001b[0m\u001b[37m\u001b[0m \u001b[1m0s\u001b[0m 2ms/step - accuracy: 0.9263 - loss: 0.3106 \n",
      "Epoch 5/5\n",
      "\u001b[1m32/32\u001b[0m \u001b[32m━━━━━━━━━━━━━━━━━━━━\u001b[0m\u001b[37m\u001b[0m \u001b[1m0s\u001b[0m 1ms/step - accuracy: 0.9494 - loss: 0.2451 \n"
     ]
    },
    {
     "name": "stderr",
     "output_type": "stream",
     "text": [
      "WARNING:absl:You are saving your model as an HDF5 file via `model.save()` or `keras.saving.save_model(model)`. This file format is considered legacy. We recommend using instead the native Keras format, e.g. `model.save('my_model.keras')` or `keras.saving.save_model(model, 'my_model.keras')`. \n"
     ]
    }
   ],
   "source": [
    "# Реализация градиентной маскировки\n",
    "# Для демонстрации мы можем использовать специальные функции активации\n",
    "from tensorflow.keras.layers import Activation\n",
    "\n",
    "# Обновление модели для градиентной маскировки\n",
    "def create_masked_model():\n",
    "    model = tf.keras.Sequential([\n",
    "        tf.keras.layers.Flatten(input_shape=(28, 28)),\n",
    "        tf.keras.layers.Dense(128, activation='relu'),\n",
    "        tf.keras.layers.Dense(10),\n",
    "        Activation('softplus') # Используем softplus вместо softmax для градиентной маскировки\n",
    "    ])\n",
    "    model.compile(optimizer='adam', loss='categorical_crossentropy', metrics=['accuracy'])\n",
    "    return model\n",
    "\n",
    "# Обучение модели с градиентной маскировкой\n",
    "masked_model = create_masked_model()\n",
    "masked_model.fit(train_images, train_labels, epochs=5)\n",
    "\n",
    "# Сохранение модели с градиентной маскировкой\n",
    "masked_model.save('masked_model.h5')"
   ]
  },
  {
   "cell_type": "markdown",
   "metadata": {},
   "source": [
    "## Регуляризация и нормализация для повышения устойчивости"
   ]
  },
  {
   "cell_type": "code",
   "execution_count": 6,
   "metadata": {},
   "outputs": [
    {
     "name": "stdout",
     "output_type": "stream",
     "text": [
      "Epoch 1/5\n",
      "\u001b[1m32/32\u001b[0m \u001b[32m━━━━━━━━━━━━━━━━━━━━\u001b[0m\u001b[37m\u001b[0m \u001b[1m1s\u001b[0m 2ms/step - accuracy: 0.3364 - loss: 4.0272 \n",
      "Epoch 2/5\n",
      "\u001b[1m32/32\u001b[0m \u001b[32m━━━━━━━━━━━━━━━━━━━━\u001b[0m\u001b[37m\u001b[0m \u001b[1m0s\u001b[0m 2ms/step - accuracy: 0.7400 - loss: 2.2092\n",
      "Epoch 3/5\n",
      "\u001b[1m32/32\u001b[0m \u001b[32m━━━━━━━━━━━━━━━━━━━━\u001b[0m\u001b[37m\u001b[0m \u001b[1m0s\u001b[0m 2ms/step - accuracy: 0.8278 - loss: 1.6931\n",
      "Epoch 4/5\n",
      "\u001b[1m32/32\u001b[0m \u001b[32m━━━━━━━━━━━━━━━━━━━━\u001b[0m\u001b[37m\u001b[0m \u001b[1m0s\u001b[0m 2ms/step - accuracy: 0.8731 - loss: 1.4790\n",
      "Epoch 5/5\n",
      "\u001b[1m32/32\u001b[0m \u001b[32m━━━━━━━━━━━━━━━━━━━━\u001b[0m\u001b[37m\u001b[0m \u001b[1m0s\u001b[0m 2ms/step - accuracy: 0.8888 - loss: 1.3142\n"
     ]
    },
    {
     "name": "stderr",
     "output_type": "stream",
     "text": [
      "WARNING:absl:You are saving your model as an HDF5 file via `model.save()` or `keras.saving.save_model(model)`. This file format is considered legacy. We recommend using instead the native Keras format, e.g. `model.save('my_model.keras')` or `keras.saving.save_model(model, 'my_model.keras')`. \n"
     ]
    }
   ],
   "source": [
    "# Модель с регуляризацией и нормализацией\n",
    "def create_regularized_model():\n",
    "    model = tf.keras.Sequential([\n",
    "        tf.keras.layers.Flatten(input_shape=(28, 28)),\n",
    "        tf.keras.layers.Dense(128, activation='relu',\n",
    "        kernel_regularizer=tf.keras.regularizers.l2(0.01)),\n",
    "        tf.keras.layers.Dropout(0.5),\n",
    "        tf.keras.layers.BatchNormalization(),\n",
    "        tf.keras.layers.Dense(10, activation='softmax')\n",
    "    ])\n",
    "    model.compile(optimizer='adam', loss='categorical_crossentropy', metrics=['accuracy'])\n",
    "    return model\n",
    "\n",
    "# Обучение модели с регуляризацией и нормализацией\n",
    "regularized_model = create_regularized_model()\n",
    "regularized_model.fit(train_images, train_labels, epochs=5)\n",
    "\n",
    "# Сохранение модели с регуляризацией\n",
    "regularized_model.save('regularized_model.h5')"
   ]
  },
  {
   "cell_type": "markdown",
   "metadata": {},
   "source": [
    "## Оценка моделей на противоречивых примерах"
   ]
  },
  {
   "cell_type": "code",
   "execution_count": 7,
   "metadata": {},
   "outputs": [
    {
     "name": "stderr",
     "output_type": "stream",
     "text": [
      "WARNING:absl:Compiled the loaded model, but the compiled metrics have yet to be built. `model.compile_metrics` will be empty until you train or evaluate the model.\n"
     ]
    },
    {
     "name": "stdout",
     "output_type": "stream",
     "text": [
      "\u001b[1m313/313\u001b[0m \u001b[32m━━━━━━━━━━━━━━━━━━━━\u001b[0m\u001b[37m\u001b[0m \u001b[1m0s\u001b[0m 738us/step - accuracy: 0.4999 - loss: 1.4629\n",
      "Accuracy of protected model on adversarial examples: 0.5544999837875366\n"
     ]
    }
   ],
   "source": [
    "# Загрузка атакованной модели\n",
    "protected_model = tf.keras.models.load_model('adversarial_trained_model.h5')\n",
    "\n",
    "# Генерация противоречивых примеров для тестовых данных\n",
    "adversarial_test_images = generate_adversarial_examples(protected_model, test_images, test_labels, epsilon=0.1)\n",
    "\n",
    "# Оценка защищенной модели на противоречивых примерах\n",
    "test_loss, test_acc = protected_model.evaluate(adversarial_test_images, test_labels)\n",
    "print(f'Accuracy of protected model on adversarial examples: {test_acc}')"
   ]
  },
  {
   "cell_type": "code",
   "execution_count": 8,
   "metadata": {},
   "outputs": [
    {
     "name": "stderr",
     "output_type": "stream",
     "text": [
      "WARNING:absl:Compiled the loaded model, but the compiled metrics have yet to be built. `model.compile_metrics` will be empty until you train or evaluate the model.\n"
     ]
    },
    {
     "name": "stdout",
     "output_type": "stream",
     "text": [
      "\u001b[1m313/313\u001b[0m \u001b[32m━━━━━━━━━━━━━━━━━━━━\u001b[0m\u001b[37m\u001b[0m \u001b[1m0s\u001b[0m 762us/step - accuracy: 0.3964 - loss: 1.7908\n",
      "Accuracy of masked model on adversarial examples: 0.44179999828338623\n"
     ]
    }
   ],
   "source": [
    "# Загрузка атакованной модели\n",
    "masked_model = tf.keras.models.load_model('masked_model.h5')\n",
    "\n",
    "# Оценка защищенной модели на противоречивых примерах\n",
    "test_loss, test_acc = masked_model.evaluate(adversarial_test_images, test_labels)\n",
    "print(f'Accuracy of masked model on adversarial examples: {test_acc}')"
   ]
  },
  {
   "cell_type": "code",
   "execution_count": 9,
   "metadata": {},
   "outputs": [
    {
     "name": "stderr",
     "output_type": "stream",
     "text": [
      "WARNING:absl:Compiled the loaded model, but the compiled metrics have yet to be built. `model.compile_metrics` will be empty until you train or evaluate the model.\n"
     ]
    },
    {
     "name": "stdout",
     "output_type": "stream",
     "text": [
      "\u001b[1m313/313\u001b[0m \u001b[32m━━━━━━━━━━━━━━━━━━━━\u001b[0m\u001b[37m\u001b[0m \u001b[1m0s\u001b[0m 888us/step - accuracy: 0.5351 - loss: 2.2939\n",
      "Accuracy of masked model on adversarial examples: 0.5932000279426575\n"
     ]
    }
   ],
   "source": [
    "# Загрузка атакованной модели\n",
    "regularized_model = tf.keras.models.load_model('regularized_model.h5')\n",
    "\n",
    "# Оценка защищенной модели на противоречивых примерах\n",
    "test_loss, test_acc = regularized_model.evaluate(adversarial_test_images, test_labels)\n",
    "print(f'Accuracy of masked model on adversarial examples: {test_acc}')"
   ]
  },
  {
   "cell_type": "markdown",
   "metadata": {},
   "source": [
    "## Вывод\n",
    "\n",
    "В ходе работы были применены три различных метода защиты моделей ИИ от атак с использованием противоречивых примеров. Исследованные методы в различной степени делают модель более устойчивой к подобным атакам, посколько точность при их применении снизилась не настолько же сильно, насколько она падала при использовании незащищённых моделей в прошлых практических работах.\n",
    "\n",
    "Используя полученные результаты, можно составить следующий рейтинг методов защиты:\n",
    "\n",
    "1. Регуляризация и нормализация (59%)\n",
    "2. Adversarial Training (55%)\n",
    "3. Градиентная маскировка (44%)"
   ]
  }
 ],
 "metadata": {
  "kernelspec": {
   "display_name": "aszii",
   "language": "python",
   "name": "python3"
  },
  "language_info": {
   "codemirror_mode": {
    "name": "ipython",
    "version": 3
   },
   "file_extension": ".py",
   "mimetype": "text/x-python",
   "name": "python",
   "nbconvert_exporter": "python",
   "pygments_lexer": "ipython3",
   "version": "3.12.3"
  }
 },
 "nbformat": 4,
 "nbformat_minor": 2
}
