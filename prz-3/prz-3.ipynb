{
 "cells": [
  {
   "cell_type": "markdown",
   "metadata": {},
   "source": [
    "# Практическая работа №3. Атака Carlini-Wagner (CW) на модели ИИ\n",
    "\n",
    "Выполнил Сердюков Матвей Романович, ББМО-01-23"
   ]
  },
  {
   "cell_type": "markdown",
   "metadata": {},
   "source": [
    "## Загрузка обученной модели и датасета MNIST"
   ]
  },
  {
   "cell_type": "code",
   "execution_count": 1,
   "metadata": {},
   "outputs": [
    {
     "name": "stderr",
     "output_type": "stream",
     "text": [
      "2024-10-30 15:28:20.585086: I tensorflow/core/util/port.cc:153] oneDNN custom operations are on. You may see slightly different numerical results due to floating-point round-off errors from different computation orders. To turn them off, set the environment variable `TF_ENABLE_ONEDNN_OPTS=0`.\n",
      "2024-10-30 15:28:20.595679: E external/local_xla/xla/stream_executor/cuda/cuda_fft.cc:477] Unable to register cuFFT factory: Attempting to register factory for plugin cuFFT when one has already been registered\n",
      "WARNING: All log messages before absl::InitializeLog() is called are written to STDERR\n",
      "E0000 00:00:1730291300.608660   15982 cuda_dnn.cc:8310] Unable to register cuDNN factory: Attempting to register factory for plugin cuDNN when one has already been registered\n",
      "E0000 00:00:1730291300.612251   15982 cuda_blas.cc:1418] Unable to register cuBLAS factory: Attempting to register factory for plugin cuBLAS when one has already been registered\n",
      "2024-10-30 15:28:20.625162: I tensorflow/core/platform/cpu_feature_guard.cc:210] This TensorFlow binary is optimized to use available CPU instructions in performance-critical operations.\n",
      "To enable the following instructions: AVX2 AVX_VNNI FMA, in other operations, rebuild TensorFlow with the appropriate compiler flags.\n",
      "I0000 00:00:1730291303.103315   15982 gpu_device.cc:2022] Created device /job:localhost/replica:0/task:0/device:GPU:0 with 1756 MB memory:  -> device: 0, name: NVIDIA GeForce RTX 3050 Ti Laptop GPU, pci bus id: 0000:01:00.0, compute capability: 8.6\n",
      "WARNING:absl:Compiled the loaded model, but the compiled metrics have yet to be built. `model.compile_metrics` will be empty until you train or evaluate the model.\n",
      "WARNING: All log messages before absl::InitializeLog() is called are written to STDERR\n",
      "I0000 00:00:1730291302.801956   16095 service.cc:148] XLA service 0x7fb454005f10 initialized for platform CUDA (this does not guarantee that XLA will be used). Devices:\n",
      "I0000 00:00:1730291302.801988   16095 service.cc:156]   StreamExecutor device (0): NVIDIA GeForce RTX 3050 Ti Laptop GPU, Compute Capability 8.6\n",
      "2024-10-30 15:28:22.821331: I tensorflow/compiler/mlir/tensorflow/utils/dump_mlir_util.cc:268] disabling MLIR crash reproducer, set env var `MLIR_CRASH_REPRODUCER_DIRECTORY` to enable.\n",
      "I0000 00:00:1730291302.844062   16095 cuda_dnn.cc:529] Loaded cuDNN version 90300\n",
      "2024-10-30 15:28:23.062222: I external/local_xla/xla/stream_executor/cuda/cuda_asm_compiler.cc:397] ptxas warning : Registers are spilled to local memory in function 'gemm_fusion_dot_46', 4 bytes spill stores, 4 bytes spill loads\n",
      "\n"
     ]
    },
    {
     "name": "stdout",
     "output_type": "stream",
     "text": [
      "\u001b[1m149/313\u001b[0m \u001b[32m━━━━━━━━━\u001b[0m\u001b[37m━━━━━━━━━━━\u001b[0m \u001b[1m0s\u001b[0m 1ms/step - accuracy: 0.9730 - loss: 0.0945"
     ]
    },
    {
     "name": "stderr",
     "output_type": "stream",
     "text": [
      "I0000 00:00:1730291303.376496   16095 device_compiler.h:188] Compiled cluster using XLA!  This line is logged at most once for the lifetime of the process.\n"
     ]
    },
    {
     "name": "stdout",
     "output_type": "stream",
     "text": [
      "\u001b[1m313/313\u001b[0m \u001b[32m━━━━━━━━━━━━━━━━━━━━\u001b[0m\u001b[37m\u001b[0m \u001b[1m2s\u001b[0m 3ms/step - accuracy: 0.9736 - loss: 0.0915\n",
      "Test accuracy on clean images: 0.9768000245094299\n"
     ]
    }
   ],
   "source": [
    "import tensorflow as tf\n",
    "from tensorflow.keras.datasets import mnist\n",
    "from tensorflow.keras.utils import to_categorical\n",
    "\n",
    "# Загрузка тестовых данных MNIST\n",
    "(_, _), (test_images, test_labels) = mnist.load_data()\n",
    "\n",
    "# Нормализация данных\n",
    "test_images = test_images / 255.0\n",
    "#test_labels = to_categorical(test_labels)\n",
    "test_labels = to_categorical(test_labels, num_classes=10)\n",
    "# Загрузка обученной модели\n",
    "model = tf.keras.models.load_model('../mnist_model.h5')\n",
    "\n",
    "# Проверка точности модели на обычных данных\n",
    "test_loss, test_acc = model.evaluate(test_images, test_labels)\n",
    "print(f'Test accuracy on clean images: {test_acc}')"
   ]
  },
  {
   "cell_type": "markdown",
   "metadata": {},
   "source": [
    "## Реализация атаки"
   ]
  },
  {
   "cell_type": "code",
   "execution_count": null,
   "metadata": {},
   "outputs": [
    {
     "name": "stderr",
     "output_type": "stream",
     "text": [
      "I0000 00:00:1730292724.326668   15982 gpu_device.cc:2022] Created device /device:GPU:0 with 1756 MB memory:  -> device: 0, name: NVIDIA GeForce RTX 3050 Ti Laptop GPU, pci bus id: 0000:01:00.0, compute capability: 8.6\n"
     ]
    },
    {
     "name": "stdout",
     "output_type": "stream",
     "text": [
      "tf.Tensor(7, shape=(), dtype=int64)\n"
     ]
    },
    {
     "data": {
      "image/png": "[encoded data removed]",
      "text/plain": [
       "<Figure size 1000x500 with 2 Axes>"
      ]
     },
     "metadata": {},
     "output_type": "display_data"
    }
   ],
   "source": [
    "\n",
    "import foolbox as fb\n",
    "import numpy as np\n",
    "import matplotlib.pyplot as plt\n",
    "import tensorflow as tf\n",
    "\n",
    "# Инициализация Foolbox модели\n",
    "fmodel = fb.TensorFlowModel(model, bounds=(-1, 1))\n",
    "\n",
    "# Выбор изображения для атаки (например, первое изображение из тестового набора)\n",
    "image = tf.convert_to_tensor(test_images[0], dtype=tf.float32)[None, ...]\n",
    "label = np.argmax(test_labels[0])\n",
    "label = tf.convert_to_tensor(label, dtype=tf.int64)\n",
    "\n",
    "# Выполнение атаки\n",
    "attack = fb.attacks.L2CarliniWagnerAttack(steps=6)\n",
    "print(label)\n",
    "advs, _, success = attack(fmodel, image, label[None], epsilons=0.01)\n",
    "\n",
    "# Вывод результатов\n",
    "plt.figure(figsize=(10, 5))\n",
    "plt.subplot(1, 2, 1)\n",
    "plt.title(\"Оригинальное изображение\")\n",
    "plt.imshow(image[0].numpy(), cmap=\"gray\")\n",
    "plt.axis('off')\n",
    "\n",
    "plt.subplot(1, 2, 2)\n",
    "plt.title(\"Противоречивое изображение (CW Attack)\")\n",
    "plt.imshow(advs[0].numpy(), cmap=\"gray\")\n",
    "plt.axis('off')\n",
    "\n",
    "plt.show()"
   ]
  },
  {
   "cell_type": "markdown",
   "metadata": {},
   "source": [
    "## Оценка модели"
   ]
  },
  {
   "cell_type": "code",
   "execution_count": null,
   "metadata": {},
   "outputs": [
    {
     "name": "stdout",
     "output_type": "stream",
     "text": [
      "current image: 10000/10000\r"
     ]
    }
   ],
   "source": [
    "adversarial_images = []\n",
    "\n",
    "for i in range(len(test_images)):\n",
    "    image = tf.convert_to_tensor(test_images[i], dtype=tf.float32)[None, ...]\n",
    "    label = np.argmax(test_labels[i])\n",
    "    label = tf.convert_to_tensor(label, dtype=tf.int64)\n",
    "    print(f\"current image: {i+1}/10000\", end='\\r')\n",
    "    advs, _, success = attack(fmodel, image, label[None], epsilons=0.01)\n",
    "    adversarial_images.append(advs)\n",
    "\n",
    "adversarial_images = tf.concat(adversarial_images, axis=0)"
   ]
  },
  {
   "cell_type": "code",
   "execution_count": null,
   "metadata": {},
   "outputs": [
    {
     "name": "stdout",
     "output_type": "stream",
     "text": [
      "\u001b[1m313/313\u001b[0m \u001b[32m━━━━━━━━━━━━━━━━━━━━\u001b[0m\u001b[37m\u001b[0m \u001b[1m1s\u001b[0m 2ms/step - accuracy: 0.0310 - loss: 1.6246\n",
      "Accuracy on adversarial examples (CW attack): 0.03590000048279762\n"
     ]
    }
   ],
   "source": [
    "adversarial_loss, adversarial_acc = model.evaluate(adversarial_images, test_labels)\n",
    "print(f'Accuracy on adversarial examples (CW attack): {adversarial_acc}')"
   ]
  }
 ],
 "metadata": {
  "kernelspec": {
   "display_name": "aszii-prz3",
   "language": "python",
   "name": "python3"
  },
  "language_info": {
   "codemirror_mode": {
    "name": "ipython",
    "version": 3
   },
   "file_extension": ".py",
   "mimetype": "text/x-python",
   "name": "python",
   "nbconvert_exporter": "python",
   "pygments_lexer": "ipython3",
   "version": "3.12.3"
  }
 },
 "nbformat": 4,
 "nbformat_minor": 2
}
